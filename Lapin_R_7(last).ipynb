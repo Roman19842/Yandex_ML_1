{
 "cells": [
  {
   "cell_type": "markdown",
   "id": "78a35b6c",
   "metadata": {
    "toc": true
   },
   "source": [
    "<h1>Table of Contents<span class=\"tocSkip\"></span></h1>\n",
    "<div class=\"toc\"><ul class=\"toc-item\"><li><span><a href=\"#Откроем-файл-с-данными-и-изучим-его.\" data-toc-modified-id=\"Откроем-файл-с-данными-и-изучим-его.-1\"><span class=\"toc-item-num\">1&nbsp;&nbsp;</span>Откроем файл с данными и изучим его.</a></span></li><li><span><a href=\"#Разделим-исходные-данные-на-обучающую,-валидационную-и-тестовую-выборки.\" data-toc-modified-id=\"Разделим-исходные-данные-на-обучающую,-валидационную-и-тестовую-выборки.-2\"><span class=\"toc-item-num\">2&nbsp;&nbsp;</span>Разделим исходные данные на обучающую, валидационную и тестовую выборки.</a></span></li><li><span><a href=\"#Исследуем-качество-разных-моделей,-меняя-гиперпараметры.\" data-toc-modified-id=\"Исследуем-качество-разных-моделей,-меняя-гиперпараметры.-3\"><span class=\"toc-item-num\">3&nbsp;&nbsp;</span>Исследуем качество разных моделей, меняя гиперпараметры.</a></span><ul class=\"toc-item\"><li><span><a href=\"#Модель-дерева-решений.-DecisionTreeClassifier\" data-toc-modified-id=\"Модель-дерева-решений.-DecisionTreeClassifier-3.1\"><span class=\"toc-item-num\">3.1&nbsp;&nbsp;</span>Модель дерева решений. DecisionTreeClassifier</a></span></li><li><span><a href=\"#Модель-случайный-лес.-RandomForestClassifier\" data-toc-modified-id=\"Модель-случайный-лес.-RandomForestClassifier-3.2\"><span class=\"toc-item-num\">3.2&nbsp;&nbsp;</span>Модель случайный лес. RandomForestClassifier</a></span></li><li><span><a href=\"#Логистическая-регрессия.LogisticRegression\" data-toc-modified-id=\"Логистическая-регрессия.LogisticRegression-3.3\"><span class=\"toc-item-num\">3.3&nbsp;&nbsp;</span>Логистическая регрессия.LogisticRegression</a></span></li><li><span><a href=\"#Вывод.\" data-toc-modified-id=\"Вывод.-3.4\"><span class=\"toc-item-num\">3.4&nbsp;&nbsp;</span>Вывод.</a></span></li></ul></li><li><span><a href=\"#Проверим-качество-модели-на-тестовой-выборке\" data-toc-modified-id=\"Проверим-качество-модели-на-тестовой-выборке-4\"><span class=\"toc-item-num\">4&nbsp;&nbsp;</span>Проверим качество модели на тестовой выборке</a></span></li><li><span><a href=\"#Проверим-на-вменяемость\" data-toc-modified-id=\"Проверим-на-вменяемость-5\"><span class=\"toc-item-num\">5&nbsp;&nbsp;</span>Проверим на вменяемость</a></span></li><li><span><a href=\"#Общий-вывод.\" data-toc-modified-id=\"Общий-вывод.-6\"><span class=\"toc-item-num\">6&nbsp;&nbsp;</span>Общий вывод.</a></span></li></ul></div>"
   ]
  },
  {
   "cell_type": "markdown",
   "id": "55175911",
   "metadata": {},
   "source": [
    "# Описание проекта , цель"
   ]
  },
  {
   "cell_type": "markdown",
   "id": "084f1843",
   "metadata": {},
   "source": [
    "Оператор мобильной связи «Мегалайн» выяснил: многие клиенты пользуются архивными тарифами. Они хотят построить систему, способную проанализировать поведение клиентов и предложить пользователям новый тариф: «Смарт» или «Ультра»."
   ]
  },
  {
   "cell_type": "markdown",
   "id": "f472a922",
   "metadata": {},
   "source": [
    "**Цель:** Постройть модель с максимально большим значением accuracy. Чтобы сдать проект успешно, нужно довести долю правильных ответов по крайней мере до 0.75. Проверьте accuracy на тестовой выборке самостоятельно."
   ]
  },
  {
   "cell_type": "code",
   "execution_count": 1,
   "id": "33526460",
   "metadata": {},
   "outputs": [],
   "source": [
    "import pandas as pd"
   ]
  },
  {
   "cell_type": "code",
   "execution_count": 2,
   "id": "cfe7ac17",
   "metadata": {},
   "outputs": [],
   "source": [
    "import numpy as np"
   ]
  },
  {
   "cell_type": "code",
   "execution_count": 3,
   "id": "8ee91d67",
   "metadata": {},
   "outputs": [],
   "source": [
    "from sklearn.model_selection import train_test_split"
   ]
  },
  {
   "cell_type": "code",
   "execution_count": 4,
   "id": "9d1f0b80",
   "metadata": {},
   "outputs": [],
   "source": [
    "from sklearn.tree import DecisionTreeClassifier"
   ]
  },
  {
   "cell_type": "code",
   "execution_count": 5,
   "id": "b2fc57af",
   "metadata": {},
   "outputs": [],
   "source": [
    "from sklearn.metrics import accuracy_score"
   ]
  },
  {
   "cell_type": "code",
   "execution_count": 6,
   "id": "5602f8d7",
   "metadata": {},
   "outputs": [],
   "source": [
    "from sklearn.ensemble import RandomForestClassifier"
   ]
  },
  {
   "cell_type": "code",
   "execution_count": 7,
   "id": "e29d5efa",
   "metadata": {},
   "outputs": [],
   "source": [
    "from sklearn.linear_model import LogisticRegression"
   ]
  },
  {
   "cell_type": "markdown",
   "id": "0044d395",
   "metadata": {},
   "source": [
    "<div class=\"alert alert-block alert-success\">\n",
    "<b>Успех:</b> Молодец, что собираешь все импорты в верхней части ноутбука! Если у того, кто будет запускать твой ноутбук будут отсутствовать некоторые библиотеки, то он это увидит сразу, а не в процессе!\n",
    "  \n",
    "</div>"
   ]
  },
  {
   "cell_type": "markdown",
   "id": "8541303f",
   "metadata": {},
   "source": [
    "## Откроем файл с данными и изучим его."
   ]
  },
  {
   "cell_type": "code",
   "execution_count": 8,
   "id": "7d1c71d6",
   "metadata": {},
   "outputs": [],
   "source": [
    "df = pd.read_csv('/datasets/users_behavior.csv') #/datasets/users_behavior.csv"
   ]
  },
  {
   "cell_type": "code",
   "execution_count": 9,
   "id": "4fd9e80f",
   "metadata": {},
   "outputs": [
    {
     "data": {
      "text/plain": [
       "(3214, 5)"
      ]
     },
     "execution_count": 9,
     "metadata": {},
     "output_type": "execute_result"
    }
   ],
   "source": [
    "df.shape"
   ]
  },
  {
   "cell_type": "code",
   "execution_count": 10,
   "id": "7cff2d92",
   "metadata": {},
   "outputs": [
    {
     "data": {
      "text/html": [
       "<div>\n",
       "<style scoped>\n",
       "    .dataframe tbody tr th:only-of-type {\n",
       "        vertical-align: middle;\n",
       "    }\n",
       "\n",
       "    .dataframe tbody tr th {\n",
       "        vertical-align: top;\n",
       "    }\n",
       "\n",
       "    .dataframe thead th {\n",
       "        text-align: right;\n",
       "    }\n",
       "</style>\n",
       "<table border=\"1\" class=\"dataframe\">\n",
       "  <thead>\n",
       "    <tr style=\"text-align: right;\">\n",
       "      <th></th>\n",
       "      <th>calls</th>\n",
       "      <th>minutes</th>\n",
       "      <th>messages</th>\n",
       "      <th>mb_used</th>\n",
       "      <th>is_ultra</th>\n",
       "    </tr>\n",
       "  </thead>\n",
       "  <tbody>\n",
       "    <tr>\n",
       "      <th>0</th>\n",
       "      <td>40.0</td>\n",
       "      <td>311.90</td>\n",
       "      <td>83.0</td>\n",
       "      <td>19915.42</td>\n",
       "      <td>0</td>\n",
       "    </tr>\n",
       "    <tr>\n",
       "      <th>1</th>\n",
       "      <td>85.0</td>\n",
       "      <td>516.75</td>\n",
       "      <td>56.0</td>\n",
       "      <td>22696.96</td>\n",
       "      <td>0</td>\n",
       "    </tr>\n",
       "    <tr>\n",
       "      <th>2</th>\n",
       "      <td>77.0</td>\n",
       "      <td>467.66</td>\n",
       "      <td>86.0</td>\n",
       "      <td>21060.45</td>\n",
       "      <td>0</td>\n",
       "    </tr>\n",
       "    <tr>\n",
       "      <th>3</th>\n",
       "      <td>106.0</td>\n",
       "      <td>745.53</td>\n",
       "      <td>81.0</td>\n",
       "      <td>8437.39</td>\n",
       "      <td>1</td>\n",
       "    </tr>\n",
       "    <tr>\n",
       "      <th>4</th>\n",
       "      <td>66.0</td>\n",
       "      <td>418.74</td>\n",
       "      <td>1.0</td>\n",
       "      <td>14502.75</td>\n",
       "      <td>0</td>\n",
       "    </tr>\n",
       "  </tbody>\n",
       "</table>\n",
       "</div>"
      ],
      "text/plain": [
       "   calls  minutes  messages   mb_used  is_ultra\n",
       "0   40.0   311.90      83.0  19915.42         0\n",
       "1   85.0   516.75      56.0  22696.96         0\n",
       "2   77.0   467.66      86.0  21060.45         0\n",
       "3  106.0   745.53      81.0   8437.39         1\n",
       "4   66.0   418.74       1.0  14502.75         0"
      ]
     },
     "execution_count": 10,
     "metadata": {},
     "output_type": "execute_result"
    }
   ],
   "source": [
    "df.head()"
   ]
  },
  {
   "cell_type": "code",
   "execution_count": 11,
   "id": "b6699ea3",
   "metadata": {},
   "outputs": [
    {
     "name": "stdout",
     "output_type": "stream",
     "text": [
      "<class 'pandas.core.frame.DataFrame'>\n",
      "RangeIndex: 3214 entries, 0 to 3213\n",
      "Data columns (total 5 columns):\n",
      " #   Column    Non-Null Count  Dtype  \n",
      "---  ------    --------------  -----  \n",
      " 0   calls     3214 non-null   float64\n",
      " 1   minutes   3214 non-null   float64\n",
      " 2   messages  3214 non-null   float64\n",
      " 3   mb_used   3214 non-null   float64\n",
      " 4   is_ultra  3214 non-null   int64  \n",
      "dtypes: float64(4), int64(1)\n",
      "memory usage: 125.7 KB\n"
     ]
    }
   ],
   "source": [
    "df.info()"
   ]
  },
  {
   "cell_type": "markdown",
   "id": "d9073556",
   "metadata": {},
   "source": [
    "Согласно условию, и первому взгляду на датафрейм , предобработку данных делать не надо.Пропушеных значений нет.Это важно для машинного обучения."
   ]
  },
  {
   "cell_type": "markdown",
   "id": "c46dc7c5",
   "metadata": {},
   "source": [
    "## Разделим исходные данные на обучающую, валидационную и тестовую выборки."
   ]
  },
  {
   "cell_type": "markdown",
   "id": "1e958bf7",
   "metadata": {},
   "source": [
    "Согласно теории (как нас учили) данные необходимо разделить на доли 3:1:1,где 3 доля обучающих данных, а по одному доля валидационых и тестовых данных. Для начала разделим весь датафрейм на основной(его в свою очередь будем делить на обучающий и валидационный) и тестовый."
   ]
  },
  {
   "cell_type": "code",
   "execution_count": 12,
   "id": "e078c386",
   "metadata": {},
   "outputs": [],
   "source": [
    "main_df,test_df = train_test_split(df,test_size=0.20,random_state=12345)"
   ]
  },
  {
   "cell_type": "code",
   "execution_count": 13,
   "id": "0392d07b",
   "metadata": {},
   "outputs": [
    {
     "data": {
      "text/plain": [
       "(2571, 5)"
      ]
     },
     "execution_count": 13,
     "metadata": {},
     "output_type": "execute_result"
    }
   ],
   "source": [
    "main_df.shape"
   ]
  },
  {
   "cell_type": "code",
   "execution_count": 14,
   "id": "c099fe1a",
   "metadata": {},
   "outputs": [
    {
     "data": {
      "text/plain": [
       "(643, 5)"
      ]
     },
     "execution_count": 14,
     "metadata": {},
     "output_type": "execute_result"
    }
   ],
   "source": [
    "test_df.shape"
   ]
  },
  {
   "cell_type": "markdown",
   "id": "9911058b",
   "metadata": {},
   "source": [
    "Из main_df мы выдели features и targets  разделим на обущающие и валидационные.\n",
    "В нашей модели признаками(features) будут все столбцы кроме столбца `is_ultra`"
   ]
  },
  {
   "cell_type": "code",
   "execution_count": 15,
   "id": "52b4ffce",
   "metadata": {},
   "outputs": [],
   "source": [
    "features = main_df.drop('is_ultra',axis=1)"
   ]
  },
  {
   "cell_type": "code",
   "execution_count": 16,
   "id": "e0812964",
   "metadata": {},
   "outputs": [
    {
     "name": "stdout",
     "output_type": "stream",
     "text": [
      "<class 'pandas.core.frame.DataFrame'>\n",
      "Int64Index: 2571 entries, 348 to 482\n",
      "Data columns (total 4 columns):\n",
      " #   Column    Non-Null Count  Dtype  \n",
      "---  ------    --------------  -----  \n",
      " 0   calls     2571 non-null   float64\n",
      " 1   minutes   2571 non-null   float64\n",
      " 2   messages  2571 non-null   float64\n",
      " 3   mb_used   2571 non-null   float64\n",
      "dtypes: float64(4)\n",
      "memory usage: 100.4 KB\n"
     ]
    }
   ],
   "source": [
    "features.info()"
   ]
  },
  {
   "cell_type": "markdown",
   "id": "3639d261",
   "metadata": {},
   "source": [
    "А целею(targets)только столбец `is_ultra`."
   ]
  },
  {
   "cell_type": "code",
   "execution_count": 17,
   "id": "c3cf7c27",
   "metadata": {},
   "outputs": [],
   "source": [
    "targets=main_df['is_ultra']"
   ]
  },
  {
   "cell_type": "markdown",
   "id": "e6c842d6",
   "metadata": {},
   "source": [
    "Поделим наши признаки и цели на `обучающие(train)` и `валидацинные данные(valid)`"
   ]
  },
  {
   "cell_type": "code",
   "execution_count": 18,
   "id": "5e13422c",
   "metadata": {},
   "outputs": [],
   "source": [
    "features_train, features_valid, target_train, target_valid = train_test_split(features,targets,test_size=0.25, random_state=12345)"
   ]
  },
  {
   "cell_type": "code",
   "execution_count": 19,
   "id": "8ea86f5b",
   "metadata": {},
   "outputs": [
    {
     "data": {
      "text/plain": [
       "(1928, 4)"
      ]
     },
     "execution_count": 19,
     "metadata": {},
     "output_type": "execute_result"
    }
   ],
   "source": [
    "features_train.shape"
   ]
  },
  {
   "cell_type": "code",
   "execution_count": 20,
   "id": "862cc89a",
   "metadata": {},
   "outputs": [
    {
     "data": {
      "text/plain": [
       "(643, 4)"
      ]
     },
     "execution_count": 20,
     "metadata": {},
     "output_type": "execute_result"
    }
   ],
   "source": [
    "features_valid.shape"
   ]
  },
  {
   "cell_type": "markdown",
   "id": "6c0d58c1",
   "metadata": {},
   "source": [
    "Данные готовы для обучения моделей , тестовую выборку поделим на признаки и цель перед проверкой модели."
   ]
  },
  {
   "cell_type": "markdown",
   "id": "7c91e45f",
   "metadata": {},
   "source": [
    "<div class=\"alert alert-block alert-success\">\n",
    "    \n",
    "<b>Успех:</b> С разбиением все ок, молодец, что не забываешь проверять полученные выборки,  это иной раз может предостеречь тебя от глупых ошибок.\n",
    "  </div>  \n",
    "\n"
   ]
  },
  {
   "cell_type": "markdown",
   "id": "82ac98e8",
   "metadata": {},
   "source": [
    "## Исследуем качество разных моделей, меняя гиперпараметры."
   ]
  },
  {
   "cell_type": "markdown",
   "id": "1ad3696b",
   "metadata": {},
   "source": [
    "### Модель дерева решений. DecisionTreeClassifier"
   ]
  },
  {
   "cell_type": "markdown",
   "id": "d6a68a26",
   "metadata": {},
   "source": [
    "Применим модель DecisionTreeClassifier.Будем изменять параметр `max_depth` с помьющью цикла и определим его. Проверять `модель(model)` на данных валидационной выборки. Сделаем предсказание `predictions` и проверём точность модели на `target_valid` с помощью `accuracy_score()`"
   ]
  },
  {
   "cell_type": "code",
   "execution_count": 21,
   "id": "815e9b65",
   "metadata": {},
   "outputs": [
    {
     "name": "stdout",
     "output_type": "stream",
     "text": [
      "Accuracy лучшей модели: 0.7651632970451011\n",
      "Лучшее значение параметра depth; 3\n"
     ]
    }
   ],
   "source": [
    "best_model = None\n",
    "best_result = 0\n",
    "for depth in range(1, 7):\n",
    "    model = DecisionTreeClassifier(random_state=12345, max_depth=depth) \n",
    "    model.fit(features_train,target_train) \n",
    "    predictions = model.predict(features_valid) \n",
    "    result = accuracy_score(target_valid,predictions )\n",
    "    if result > best_result:\n",
    "        best_model = model\n",
    "        best_result = result\n",
    "        best_depth = depth\n",
    "        \n",
    "print(\"Accuracy лучшей модели:\", best_result)\n",
    "print(\"Лучшее значение параметра depth;\",best_depth)"
   ]
  },
  {
   "cell_type": "markdown",
   "id": "00eab0ea",
   "metadata": {},
   "source": [
    "Наша точность в принципе  соответсвует  цели, но будем пробывать другие модели дабы получить более лучшей результат. "
   ]
  },
  {
   "cell_type": "markdown",
   "id": "40daf107",
   "metadata": {},
   "source": [
    "### Модель случайный лес. RandomForestClassifier"
   ]
  },
  {
   "cell_type": "markdown",
   "id": "411206d6",
   "metadata": {},
   "source": [
    "Применим модель \"случайный лес\" и будем менять такие параметры как `n_estimators` и `max_depth`"
   ]
  },
  {
   "cell_type": "code",
   "execution_count": 22,
   "id": "2d512b5f",
   "metadata": {},
   "outputs": [
    {
     "name": "stdout",
     "output_type": "stream",
     "text": [
      "Accuracy лучшей модели: 0.8009331259720062\n",
      "Лучшее значение параметра n_estimators=est: 21\n",
      "Лучшее значение параметра depth; 15\n"
     ]
    }
   ],
   "source": [
    "best_model = None\n",
    "best_result = 0\n",
    "for est in range(1, 100,10):\n",
    "    for depth in range(10,20):\n",
    "        model = RandomForestClassifier(random_state=12345, n_estimators=est,max_depth=depth) \n",
    "        model.fit(features_train,target_train)\n",
    "        predictions = model.predict(features_valid)\n",
    "        result = accuracy_score(target_valid,predictions)\n",
    "        if result > best_result:\n",
    "            best_model = model\n",
    "            best_result = result\n",
    "            best_est = est\n",
    "            best_depth = depth\n",
    "print(\"Accuracy лучшей модели:\", best_result)\n",
    "print(\"Лучшее значение параметра n_estimators=est:\",best_est)\n",
    "print(\"Лучшее значение параметра depth;\",best_depth)"
   ]
  },
  {
   "cell_type": "markdown",
   "id": "e6642c74",
   "metadata": {},
   "source": [
    "Точность получись лучше чем в первой модели, но процесс вычисления был долгим. Если бы данных было бы больше я думаю было бы ещё дольше. Такжк на скорость повлияло то, что мы использовали ёще циклы для перебора параметров."
   ]
  },
  {
   "cell_type": "markdown",
   "id": "c221f142",
   "metadata": {},
   "source": [
    "### Логистическая регрессия.LogisticRegression"
   ]
  },
  {
   "cell_type": "code",
   "execution_count": 23,
   "id": "d1075e23",
   "metadata": {},
   "outputs": [
    {
     "name": "stdout",
     "output_type": "stream",
     "text": [
      "Accuracy лучшей модели: 0.7262830482115086\n",
      "Лучшее значение параметра max_iter; 100\n"
     ]
    }
   ],
   "source": [
    "best_result = 0\n",
    "for ite in range(100,2000,100):\n",
    "    model = LogisticRegression(random_state=12345, solver='lbfgs', max_iter=ite)\n",
    "    model.fit(features_train,target_train)\n",
    "    predictions = model.predict(features_valid)\n",
    "    result = accuracy_score(target_valid,predictions)\n",
    "    if result > best_result:\n",
    "        best_result = result\n",
    "        best_iter= ite\n",
    "print(\"Accuracy лучшей модели:\",best_result)\n",
    "print(\"Лучшее значение параметра max_iter;\",best_iter)"
   ]
  },
  {
   "cell_type": "markdown",
   "id": "05039e7f",
   "metadata": {},
   "source": [
    "Модель логистическая регрессия показала себя наиболее худшей."
   ]
  },
  {
   "cell_type": "markdown",
   "id": "3a8eacfd",
   "metadata": {},
   "source": [
    "### Вывод."
   ]
  },
  {
   "cell_type": "markdown",
   "id": "3b2891a3",
   "metadata": {},
   "source": [
    "Наилучшее качество модели(0.80093) мы добились используя случайный лес с параметрами n_estimators=21, max_depth=15. Провери на тестовой выборке."
   ]
  },
  {
   "cell_type": "markdown",
   "id": "dabe0470",
   "metadata": {},
   "source": [
    "## Проверим качество модели на тестовой выборке"
   ]
  },
  {
   "cell_type": "markdown",
   "id": "6e137964",
   "metadata": {},
   "source": [
    "Для начала наши тестовые данные разделим на признаки и цель."
   ]
  },
  {
   "cell_type": "code",
   "execution_count": 24,
   "id": "39b18c63",
   "metadata": {},
   "outputs": [],
   "source": [
    "test_features = test_df.drop('is_ultra',axis=1)"
   ]
  },
  {
   "cell_type": "code",
   "execution_count": 25,
   "id": "941253ec",
   "metadata": {},
   "outputs": [
    {
     "data": {
      "text/plain": [
       "(643, 4)"
      ]
     },
     "execution_count": 25,
     "metadata": {},
     "output_type": "execute_result"
    }
   ],
   "source": [
    "test_features.shape"
   ]
  },
  {
   "cell_type": "code",
   "execution_count": 26,
   "id": "ec766c2e",
   "metadata": {},
   "outputs": [],
   "source": [
    "test_target = test_df['is_ultra']"
   ]
  },
  {
   "cell_type": "markdown",
   "id": "38b0f148",
   "metadata": {},
   "source": [
    "Переобучим нашу модель снова и проверим на точность на тестовой выборке."
   ]
  },
  {
   "cell_type": "code",
   "execution_count": 27,
   "id": "70e36d8e",
   "metadata": {},
   "outputs": [
    {
     "name": "stdout",
     "output_type": "stream",
     "text": [
      "Точность модели на тестовой выборке: 0.7822706065318819\n"
     ]
    }
   ],
   "source": [
    "model = RandomForestClassifier(random_state=12345, n_estimators=21,max_depth=15) \n",
    "model.fit(features_train,target_train)\n",
    "predictions = model.predict(test_features )\n",
    "result = accuracy_score(test_target,predictions)\n",
    "print(\"Точность модели на тестовой выборке:\",result)"
   ]
  },
  {
   "cell_type": "markdown",
   "id": "3eb6d9ae",
   "metadata": {},
   "source": [
    "## Проверим на вменяемость "
   ]
  },
  {
   "cell_type": "markdown",
   "id": "b438b3ad",
   "metadata": {},
   "source": [
    "Чтобы проверить модель на вменяемость сгенирируем последовательность с заролненую единицами и посчитаем\n",
    "точность . Посути мы посчитаем долю единиц(средняя арифметическая) в нашем predictions."
   ]
  },
  {
   "cell_type": "markdown",
   "id": "dbb0440f",
   "metadata": {},
   "source": [
    "Посчитаем длину target"
   ]
  },
  {
   "cell_type": "code",
   "execution_count": 52,
   "id": "a9dbd01d",
   "metadata": {},
   "outputs": [
    {
     "data": {
      "text/plain": [
       "643"
      ]
     },
     "execution_count": 52,
     "metadata": {},
     "output_type": "execute_result"
    }
   ],
   "source": [
    "len(test_target)"
   ]
  },
  {
   "cell_type": "markdown",
   "id": "2298770f",
   "metadata": {},
   "source": [
    "Создаём Series с единицами."
   ]
  },
  {
   "cell_type": "code",
   "execution_count": 53,
   "id": "7be83ef7",
   "metadata": {},
   "outputs": [],
   "source": [
    "t_1=pd.Series(np.ones(643))"
   ]
  },
  {
   "cell_type": "code",
   "execution_count": 54,
   "id": "6e6091b4",
   "metadata": {
    "scrolled": true
   },
   "outputs": [
    {
     "name": "stdout",
     "output_type": "stream",
     "text": [
      "Точность модели на тестовой выборке: 0.22706065318818042\n"
     ]
    }
   ],
   "source": [
    "result = accuracy_score(t_1,predictions)\n",
    "print(\"Точность модели на тестовой выборке:\",result)"
   ]
  },
  {
   "cell_type": "markdown",
   "id": "c9189682",
   "metadata": {},
   "source": [
    "<div class=\"alert alert-block alert-success\">\n",
    "\n",
    "<b>Успех:</b> Лучше было бы попробовать нули"
   ]
  },
  {
   "cell_type": "markdown",
   "id": "9c44993a",
   "metadata": {},
   "source": [
    "Сравним со средим predictions"
   ]
  },
  {
   "cell_type": "code",
   "execution_count": 55,
   "id": "93576ea0",
   "metadata": {},
   "outputs": [
    {
     "data": {
      "text/plain": [
       "0.22706065318818042"
      ]
     },
     "execution_count": 55,
     "metadata": {},
     "output_type": "execute_result"
    }
   ],
   "source": [
    "predictions.mean()"
   ]
  },
  {
   "cell_type": "markdown",
   "id": "f8a85e0f",
   "metadata": {},
   "source": [
    "Совпадает со средним."
   ]
  },
  {
   "cell_type": "markdown",
   "id": "115d8fec",
   "metadata": {},
   "source": [
    "Также можно сгенировать биноманальную последоватльность случайную с заданой вероятность 0.5 и сравнить с \n",
    "predictions. Должно получиться число приближенное к 0.5"
   ]
  },
  {
   "cell_type": "code",
   "execution_count": 59,
   "id": "4e819f47",
   "metadata": {},
   "outputs": [],
   "source": [
    "t_2 = pd.Series(np.random.binomial(1,0.5 ,size=643))"
   ]
  },
  {
   "cell_type": "code",
   "execution_count": 60,
   "id": "6ccb551e",
   "metadata": {},
   "outputs": [
    {
     "name": "stdout",
     "output_type": "stream",
     "text": [
      "Точность модели на тестовой выборке: 0.49144634525660963\n"
     ]
    }
   ],
   "source": [
    "result = accuracy_score(t_2,predictions)\n",
    "print(\"Точность модели на тестовой выборке:\",result)"
   ]
  },
  {
   "cell_type": "markdown",
   "id": "117c18ec",
   "metadata": {},
   "source": [
    "Это говорить что наша модель адекватная."
   ]
  },
  {
   "cell_type": "markdown",
   "id": "13a41b81",
   "metadata": {},
   "source": [
    "<div class=\"alert alert-block alert-success\">\n",
    "\n",
    "<b>Успех:</b> Бонусное задание выполнено корректно, советую также обратить внимание на DummyClasssifier"
   ]
  },
  {
   "cell_type": "markdown",
   "id": "fd8dbe6b",
   "metadata": {},
   "source": [
    "## Общий вывод."
   ]
  },
  {
   "cell_type": "markdown",
   "id": "c3285e34",
   "metadata": {},
   "source": [
    "**Более качественная модель \"случайный лес\" RandomForestClassifier (random_state=12345, n_estimators=21,max_depth=15), выдаёт точность 0.7822 на тестовой выборке. Проверерку на вменяемость \n",
    "прошла **"
   ]
  },
  {
   "cell_type": "markdown",
   "id": "95ae1996",
   "metadata": {},
   "source": [
    "<div class=\"alert alert-block alert-success\">\n",
    "\n",
    "<b>Успех:</b> Всегда приятно наблюдать итоговый вывод в конце работы"
   ]
  }
 ],
 "metadata": {
  "kernelspec": {
   "display_name": "Python 3 (ipykernel)",
   "language": "python",
   "name": "python3"
  },
  "language_info": {
   "codemirror_mode": {
    "name": "ipython",
    "version": 3
   },
   "file_extension": ".py",
   "mimetype": "text/x-python",
   "name": "python",
   "nbconvert_exporter": "python",
   "pygments_lexer": "ipython3",
   "version": "3.9.7"
  },
  "toc": {
   "base_numbering": 1,
   "nav_menu": {},
   "number_sections": true,
   "sideBar": true,
   "skip_h1_title": true,
   "title_cell": "Table of Contents",
   "title_sidebar": "Contents",
   "toc_cell": true,
   "toc_position": {
    "height": "calc(100% - 180px)",
    "left": "10px",
    "top": "150px",
    "width": "256px"
   },
   "toc_section_display": true,
   "toc_window_display": true
  }
 },
 "nbformat": 4,
 "nbformat_minor": 5
}
